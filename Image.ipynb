{
 "cells": [
  {
   "cell_type": "code",
   "execution_count": 11,
   "id": "33e7c5ad-296c-43c6-9895-f706adda1b09",
   "metadata": {},
   "outputs": [
    {
     "name": "stdin",
     "output_type": "stream",
     "text": [
      "Enter the path of the first image:  C:\\\\Users\\\\91817\\\\Documents\\\\Projects\\\\sample images\\\\red_panda.jpg\n",
      "Enter the path of the second image:  C:\\\\Users\\\\91817\\\\Documents\\\\Projects\\\\sample images\\\\penguin.jpg\n",
      "Enter the path of the third image:  C:\\\\Users\\\\91817\\\\Documents\\\\Projects\\\\sample images\\\\Koala.jpg\n"
     ]
    },
    {
     "ename": "error",
     "evalue": "OpenCV(4.9.0) D:\\a\\opencv-python\\opencv-python\\opencv\\modules\\highgui\\src\\window.cpp:866: error: (-215:Assertion failed) trackbar in function 'cv::getTrackbarPos'\n",
     "output_type": "error",
     "traceback": [
      "\u001b[1;31m---------------------------------------------------------------------------\u001b[0m",
      "\u001b[1;31merror\u001b[0m                                     Traceback (most recent call last)",
      "Cell \u001b[1;32mIn[11], line 45\u001b[0m, in \u001b[0;36mupdate_morph\u001b[1;34m(_)\u001b[0m\n\u001b[0;32m     43\u001b[0m \u001b[38;5;66;03m# Read trackbar values\u001b[39;00m\n\u001b[0;32m     44\u001b[0m t0 \u001b[38;5;241m=\u001b[39m cv2\u001b[38;5;241m.\u001b[39mgetTrackbarPos(\u001b[38;5;124m\"\u001b[39m\u001b[38;5;124mImage A (\u001b[39m\u001b[38;5;124m%\u001b[39m\u001b[38;5;124m)\u001b[39m\u001b[38;5;124m\"\u001b[39m, \u001b[38;5;124m\"\u001b[39m\u001b[38;5;124mMorphing Control\u001b[39m\u001b[38;5;124m\"\u001b[39m)\n\u001b[1;32m---> 45\u001b[0m t1 \u001b[38;5;241m=\u001b[39m \u001b[43mcv2\u001b[49m\u001b[38;5;241;43m.\u001b[39;49m\u001b[43mgetTrackbarPos\u001b[49m\u001b[43m(\u001b[49m\u001b[38;5;124;43m\"\u001b[39;49m\u001b[38;5;124;43mImage B (\u001b[39;49m\u001b[38;5;124;43m%\u001b[39;49m\u001b[38;5;124;43m)\u001b[39;49m\u001b[38;5;124;43m\"\u001b[39;49m\u001b[43m,\u001b[49m\u001b[43m \u001b[49m\u001b[38;5;124;43m\"\u001b[39;49m\u001b[38;5;124;43mMorphing Control\u001b[39;49m\u001b[38;5;124;43m\"\u001b[39;49m\u001b[43m)\u001b[49m\n\u001b[0;32m     46\u001b[0m t2 \u001b[38;5;241m=\u001b[39m cv2\u001b[38;5;241m.\u001b[39mgetTrackbarPos(\u001b[38;5;124m\"\u001b[39m\u001b[38;5;124mImage C (\u001b[39m\u001b[38;5;124m%\u001b[39m\u001b[38;5;124m)\u001b[39m\u001b[38;5;124m\"\u001b[39m, \u001b[38;5;124m\"\u001b[39m\u001b[38;5;124mMorphing Control\u001b[39m\u001b[38;5;124m\"\u001b[39m)\n\u001b[0;32m     48\u001b[0m \u001b[38;5;66;03m# Generate morphed image\u001b[39;00m\n",
      "\u001b[1;31merror\u001b[0m: OpenCV(4.9.0) D:\\a\\opencv-python\\opencv-python\\opencv\\modules\\highgui\\src\\window.cpp:866: error: (-215:Assertion failed) trackbar in function 'cv::getTrackbarPos'\n"
     ]
    },
    {
     "ename": "error",
     "evalue": "OpenCV(4.9.0) D:\\a\\opencv-python\\opencv-python\\opencv\\modules\\highgui\\src\\window.cpp:866: error: (-215:Assertion failed) trackbar in function 'cv::getTrackbarPos'\n",
     "output_type": "error",
     "traceback": [
      "\u001b[1;31m---------------------------------------------------------------------------\u001b[0m",
      "\u001b[1;31merror\u001b[0m                                     Traceback (most recent call last)",
      "Cell \u001b[1;32mIn[11], line 46\u001b[0m, in \u001b[0;36mupdate_morph\u001b[1;34m(_)\u001b[0m\n\u001b[0;32m     44\u001b[0m t0 \u001b[38;5;241m=\u001b[39m cv2\u001b[38;5;241m.\u001b[39mgetTrackbarPos(\u001b[38;5;124m\"\u001b[39m\u001b[38;5;124mImage A (\u001b[39m\u001b[38;5;124m%\u001b[39m\u001b[38;5;124m)\u001b[39m\u001b[38;5;124m\"\u001b[39m, \u001b[38;5;124m\"\u001b[39m\u001b[38;5;124mMorphing Control\u001b[39m\u001b[38;5;124m\"\u001b[39m)\n\u001b[0;32m     45\u001b[0m t1 \u001b[38;5;241m=\u001b[39m cv2\u001b[38;5;241m.\u001b[39mgetTrackbarPos(\u001b[38;5;124m\"\u001b[39m\u001b[38;5;124mImage B (\u001b[39m\u001b[38;5;124m%\u001b[39m\u001b[38;5;124m)\u001b[39m\u001b[38;5;124m\"\u001b[39m, \u001b[38;5;124m\"\u001b[39m\u001b[38;5;124mMorphing Control\u001b[39m\u001b[38;5;124m\"\u001b[39m)\n\u001b[1;32m---> 46\u001b[0m t2 \u001b[38;5;241m=\u001b[39m \u001b[43mcv2\u001b[49m\u001b[38;5;241;43m.\u001b[39;49m\u001b[43mgetTrackbarPos\u001b[49m\u001b[43m(\u001b[49m\u001b[38;5;124;43m\"\u001b[39;49m\u001b[38;5;124;43mImage C (\u001b[39;49m\u001b[38;5;124;43m%\u001b[39;49m\u001b[38;5;124;43m)\u001b[39;49m\u001b[38;5;124;43m\"\u001b[39;49m\u001b[43m,\u001b[49m\u001b[43m \u001b[49m\u001b[38;5;124;43m\"\u001b[39;49m\u001b[38;5;124;43mMorphing Control\u001b[39;49m\u001b[38;5;124;43m\"\u001b[39;49m\u001b[43m)\u001b[49m\n\u001b[0;32m     48\u001b[0m \u001b[38;5;66;03m# Generate morphed image\u001b[39;00m\n\u001b[0;32m     49\u001b[0m morphed_image \u001b[38;5;241m=\u001b[39m morph_images(t0, t1, t2)\n",
      "\u001b[1;31merror\u001b[0m: OpenCV(4.9.0) D:\\a\\opencv-python\\opencv-python\\opencv\\modules\\highgui\\src\\window.cpp:866: error: (-215:Assertion failed) trackbar in function 'cv::getTrackbarPos'\n"
     ]
    },
    {
     "ename": "KeyboardInterrupt",
     "evalue": "",
     "output_type": "error",
     "traceback": [
      "\u001b[1;31m---------------------------------------------------------------------------\u001b[0m",
      "\u001b[1;31mKeyboardInterrupt\u001b[0m                         Traceback (most recent call last)",
      "Cell \u001b[1;32mIn[11], line 66\u001b[0m\n\u001b[0;32m     64\u001b[0m \u001b[38;5;66;03m# Keep the window open until user presses ESC\u001b[39;00m\n\u001b[0;32m     65\u001b[0m \u001b[38;5;28;01mwhile\u001b[39;00m \u001b[38;5;28;01mTrue\u001b[39;00m:\n\u001b[1;32m---> 66\u001b[0m     key \u001b[38;5;241m=\u001b[39m \u001b[43mcv2\u001b[49m\u001b[38;5;241;43m.\u001b[39;49m\u001b[43mwaitKey\u001b[49m\u001b[43m(\u001b[49m\u001b[38;5;241;43m1\u001b[39;49m\u001b[43m)\u001b[49m\n\u001b[0;32m     67\u001b[0m     \u001b[38;5;28;01mif\u001b[39;00m key \u001b[38;5;241m==\u001b[39m \u001b[38;5;241m27\u001b[39m:  \u001b[38;5;66;03m# ESC key\u001b[39;00m\n\u001b[0;32m     68\u001b[0m         \u001b[38;5;28;01mbreak\u001b[39;00m\n",
      "\u001b[1;31mKeyboardInterrupt\u001b[0m: "
     ]
    }
   ],
   "source": [
    "import cv2\n",
    "import numpy as np\n",
    "\n",
    "# Enter the image path\n",
    "image_path_A = input(\"Enter the path of the first image: \").strip().replace(\"\\\\\", \"/\")\n",
    "image_path_B = input(\"Enter the path of the second image: \").strip().replace(\"\\\\\", \"/\")\n",
    "image_path_C = input(\"Enter the path of the third image: \").strip().replace(\"\\\\\", \"/\")\n",
    "\n",
    "image_A = cv2.imread(image_path_A)\n",
    "image_B = cv2.imread(image_path_B)\n",
    "image_C = cv2.imread(image_path_C)\n",
    "\n",
    "# To check if images are loaded properly or not\n",
    "if image_A is None or image_B is None or image_C is None:\n",
    "    raise ValueError(\"One or more image paths are incorrect. Please check the file paths.\")\n",
    "\n",
    "# Resize images to match dimensions of the first image\n",
    "height, width, _ = image_A.shape\n",
    "image_B = cv2.resize(image_B, (width, height))\n",
    "image_C = cv2.resize(image_C, (width, height))\n",
    "\n",
    "# Function to morph images based on trackbar values\n",
    "def morph_images(t0, t1, t2):\n",
    "    total = t0 + t1 + t2\n",
    "    if total == 0:\n",
    "        return image_A  # Default to first image if all weights are 0\n",
    "\n",
    "    # Normalize weights so their sum is always 1\n",
    "    t0 /= total\n",
    "    t1 /= total\n",
    "    t2 /= total\n",
    "\n",
    "    # Weighted blending\n",
    "    morphed = (t0 * image_A + t1 * image_B + t2 * image_C).astype(np.uint8)\n",
    "    return morphed\n",
    "\n",
    "# Callback function to update morphing effect\n",
    "def update_morph(_=None):\n",
    "    if cv2.getWindowProperty(\"Morphed Image\", cv2.WND_PROP_VISIBLE) < 1:\n",
    "        return  # Prevents error if window is closed\n",
    "\n",
    "    # Read trackbar values\n",
    "    t0 = cv2.getTrackbarPos(\"Image A (%)\", \"Morphing Control\")\n",
    "    t1 = cv2.getTrackbarPos(\"Image B (%)\", \"Morphing Control\")\n",
    "    t2 = cv2.getTrackbarPos(\"Image C (%)\", \"Morphing Control\")\n",
    "\n",
    "    # Generate morphed image\n",
    "    morphed_image = morph_images(t0, t1, t2)\n",
    "    cv2.imshow(\"Morphed Image\", morphed_image)\n",
    "\n",
    "cv2.namedWindow(\"Morphing Control\")\n",
    "cv2.namedWindow(\"Morphed Image\")\n",
    "\n",
    "# Creating the trackbars for all three images\n",
    "cv2.createTrackbar(\"Image A (%)\", \"Morphing Control\", 33, 100, update_morph)\n",
    "cv2.createTrackbar(\"Image B (%)\", \"Morphing Control\", 33, 100, update_morph)\n",
    "cv2.createTrackbar(\"Image C (%)\", \"Morphing Control\", 34, 100, update_morph)\n",
    "\n",
    "# Shows the initial morphed image\n",
    "update_morph(0)\n",
    "\n",
    "# Press esc key to close the window\n",
    "while True:\n",
    "    key = cv2.waitKey(1)\n",
    "    if key == 27:  # ESC key\n",
    "        break\n",
    "\n",
    "cv2.destroyAllWindows()"
   ]
  },
  {
   "cell_type": "code",
   "execution_count": null,
   "id": "14b04f27-2cb8-47cb-b8e1-4ee6c28d0917",
   "metadata": {},
   "outputs": [],
   "source": []
  }
 ],
 "metadata": {
  "kernelspec": {
   "display_name": "Python 3 (ipykernel)",
   "language": "python",
   "name": "python3"
  },
  "language_info": {
   "codemirror_mode": {
    "name": "ipython",
    "version": 3
   },
   "file_extension": ".py",
   "mimetype": "text/x-python",
   "name": "python",
   "nbconvert_exporter": "python",
   "pygments_lexer": "ipython3",
   "version": "3.10.9"
  }
 },
 "nbformat": 4,
 "nbformat_minor": 5
}
